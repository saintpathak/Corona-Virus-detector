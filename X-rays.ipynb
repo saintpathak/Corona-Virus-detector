{
 "cells": [
  {
   "cell_type": "code",
   "execution_count": 1,
   "metadata": {
    "colab": {},
    "colab_type": "code",
    "id": "fIy8qZU2N8c5"
   },
   "outputs": [
    {
     "name": "stderr",
     "output_type": "stream",
     "text": [
      "Using TensorFlow backend.\n"
     ]
    }
   ],
   "source": [
    "#importing the ds\n",
    "import tensorflow as tf\n",
    "from keras.preprocessing.image import ImageDataGenerator"
   ]
  },
  {
   "cell_type": "code",
   "execution_count": 2,
   "metadata": {
    "colab": {},
    "colab_type": "code",
    "id": "QwFsoDMDN-Ny"
   },
   "outputs": [
    {
     "name": "stdout",
     "output_type": "stream",
     "text": [
      "Found 5216 images belonging to 2 classes.\n",
      "Found 624 images belonging to 2 classes.\n"
     ]
    }
   ],
   "source": [
    "#data preprocessing using Keras API doc\n",
    "train_datagen = ImageDataGenerator(\n",
    "        rescale=1./255,\n",
    "        shear_range=0.2,\n",
    "        zoom_range=0.2,\n",
    "        horizontal_flip=True)\n",
    "test_datagen = ImageDataGenerator(rescale=1./255)\n",
    "training_set = train_datagen.flow_from_directory(\n",
    "        'train',\n",
    "        target_size=(64, 64),\n",
    "        batch_size=32,\n",
    "        class_mode='binary')\n",
    "test_set = test_datagen.flow_from_directory(\n",
    "        'test',\n",
    "        target_size=(64, 64),\n",
    "        batch_size=32,\n",
    "        class_mode='binary')"
   ]
  },
  {
   "cell_type": "code",
   "execution_count": 3,
   "metadata": {
    "colab": {},
    "colab_type": "code",
    "id": "Eref7fh4N-Q3"
   },
   "outputs": [
    {
     "name": "stdout",
     "output_type": "stream",
     "text": [
      "Epoch 1/20\n",
      "163/163 [==============================] - 105s 646ms/step - loss: 0.3373 - accuracy: 0.8587 - val_loss: 0.5611 - val_accuracy: 0.7612\n",
      "Epoch 2/20\n",
      "163/163 [==============================] - 104s 639ms/step - loss: 0.2306 - accuracy: 0.9078 - val_loss: 0.6158 - val_accuracy: 0.7548\n",
      "Epoch 3/20\n",
      "163/163 [==============================] - 105s 647ms/step - loss: 0.1908 - accuracy: 0.9262 - val_loss: 0.6447 - val_accuracy: 0.7692\n",
      "Epoch 4/20\n",
      "163/163 [==============================] - 104s 640ms/step - loss: 0.2052 - accuracy: 0.9206 - val_loss: 0.4233 - val_accuracy: 0.8381\n",
      "Epoch 5/20\n",
      "163/163 [==============================] - 108s 660ms/step - loss: 0.1811 - accuracy: 0.9281 - val_loss: 0.5775 - val_accuracy: 0.7692\n",
      "Epoch 6/20\n",
      "163/163 [==============================] - 122s 747ms/step - loss: 0.1625 - accuracy: 0.9387 - val_loss: 0.6122 - val_accuracy: 0.7724\n",
      "Epoch 7/20\n",
      "163/163 [==============================] - 118s 726ms/step - loss: 0.1730 - accuracy: 0.9323 - val_loss: 0.3469 - val_accuracy: 0.8718\n",
      "Epoch 8/20\n",
      "163/163 [==============================] - 117s 715ms/step - loss: 0.1557 - accuracy: 0.9427 - val_loss: 0.7438 - val_accuracy: 0.7628\n",
      "Epoch 9/20\n",
      "163/163 [==============================] - 110s 675ms/step - loss: 0.1432 - accuracy: 0.9463 - val_loss: 0.4653 - val_accuracy: 0.8590\n",
      "Epoch 10/20\n",
      "163/163 [==============================] - 113s 694ms/step - loss: 0.1355 - accuracy: 0.9496 - val_loss: 0.6302 - val_accuracy: 0.8125\n",
      "Epoch 11/20\n",
      "163/163 [==============================] - 112s 686ms/step - loss: 0.1254 - accuracy: 0.9517 - val_loss: 0.4186 - val_accuracy: 0.8766\n",
      "Epoch 12/20\n",
      "163/163 [==============================] - 108s 663ms/step - loss: 0.1375 - accuracy: 0.9505 - val_loss: 0.3848 - val_accuracy: 0.8846\n",
      "Epoch 13/20\n",
      "163/163 [==============================] - 106s 651ms/step - loss: 0.1342 - accuracy: 0.9469 - val_loss: 0.5460 - val_accuracy: 0.8478\n",
      "Epoch 14/20\n",
      "163/163 [==============================] - 105s 647ms/step - loss: 0.1433 - accuracy: 0.9461 - val_loss: 0.4768 - val_accuracy: 0.8622\n",
      "Epoch 15/20\n",
      "163/163 [==============================] - 105s 645ms/step - loss: 0.1356 - accuracy: 0.9486 - val_loss: 0.6052 - val_accuracy: 0.8141\n",
      "Epoch 16/20\n",
      "163/163 [==============================] - 111s 681ms/step - loss: 0.1223 - accuracy: 0.9532 - val_loss: 0.3165 - val_accuracy: 0.9071\n",
      "Epoch 17/20\n",
      "163/163 [==============================] - 112s 684ms/step - loss: 0.1148 - accuracy: 0.9544 - val_loss: 0.4729 - val_accuracy: 0.8269\n",
      "Epoch 18/20\n",
      "163/163 [==============================] - 113s 693ms/step - loss: 0.1143 - accuracy: 0.9561 - val_loss: 0.4009 - val_accuracy: 0.8910\n",
      "Epoch 19/20\n",
      "163/163 [==============================] - 114s 700ms/step - loss: 0.1338 - accuracy: 0.9484 - val_loss: 0.4246 - val_accuracy: 0.8766\n",
      "Epoch 20/20\n",
      "163/163 [==============================] - 114s 702ms/step - loss: 0.1223 - accuracy: 0.9557 - val_loss: 0.4180 - val_accuracy: 0.8766\n"
     ]
    },
    {
     "data": {
      "text/plain": [
       "<tensorflow.python.keras.callbacks.History at 0x23d8825d188>"
      ]
     },
     "execution_count": 3,
     "metadata": {},
     "output_type": "execute_result"
    }
   ],
   "source": [
    "#cnn model\n",
    "cnn = tf.keras.models.Sequential()\n",
    "cnn.add(tf.keras.layers.Conv2D(filters=32, kernel_size=3, activation='relu', input_shape=[64,64,3]))\n",
    "cnn.add(tf.keras.layers.MaxPool2D(pool_size= 2, strides=2))\n",
    "cnn.add(tf.keras.layers.Flatten())\n",
    "cnn.add(tf.keras.layers.Dense(units=128, activation = 'relu'))\n",
    "cnn.add(tf.keras.layers.Dense(units=1, activation = 'sigmoid'))\n",
    "cnn.compile(optimizer = 'adam', loss='binary_crossentropy', metrics=['accuracy'])\n",
    "cnn.fit(x = training_set, validation_data = test_set, epochs = 20)"
   ]
  },
  {
   "cell_type": "code",
   "execution_count": 26,
   "metadata": {
    "colab": {},
    "colab_type": "code",
    "id": "_h-3fEw5N-UL"
   },
   "outputs": [
    {
     "name": "stdout",
     "output_type": "stream",
     "text": [
      "Alert: Patient 1 is subjected to have Corona Virus\n",
      "Alert: Patient 2 is safe\n",
      "Alert: Patient 3 is subjected to have Corona Virus\n"
     ]
    }
   ],
   "source": [
    "#Showing the doctor data is the boss\n",
    "import numpy as np\n",
    "from keras.preprocessing import image\n",
    "prediction=[]\n",
    "for i in range(3):\n",
    "    img_dir = \"img\" +str(i) + \".jpg\"\n",
    "    test_image = image.load_img(w, target_size = (64,64))\n",
    "    test_image = image.img_to_array(test_image)\n",
    "    test_image = np.expand_dims(test_image, axis = 0)\n",
    "    result = cnn.predict(test_image)\n",
    "    training_set.class_indices\n",
    "    if result[0][0] == 1:\n",
    "        print(\"Alert: Patient \" +str(i+1) + \" is subjected to have Corona Virus\")\n",
    "        prediction.append(\"Alert: Patient \" +str(i+1) + \" is subjected to have Corona Virus\")\n",
    "    else:\n",
    "        print(\"Alert: Patient \" +str(i+1) + \" is safe\")\n",
    "        prediction.append(\"Alert: Patient \" +str(i+1) + \" is safe\")"
   ]
  },
  {
   "cell_type": "code",
   "execution_count": 25,
   "metadata": {
    "colab": {},
    "colab_type": "code",
    "id": "TlZUcYz-N-WB"
   },
   "outputs": [
    {
     "name": "stdout",
     "output_type": "stream",
     "text": [
      "['Alert: Patient 1 is subjected to have Corona Virus', 'Alert: Patient 2 is safe', 'Alert: Patient 3 is subjected to have Corona Virus']\n"
     ]
    }
   ],
   "source": [
    "print(prediction)"
   ]
  },
  {
   "cell_type": "code",
   "execution_count": null,
   "metadata": {},
   "outputs": [],
   "source": []
  }
 ],
 "metadata": {
  "colab": {
   "collapsed_sections": [],
   "name": "try2.ipynb",
   "provenance": []
  },
  "kernelspec": {
   "display_name": "Python 3",
   "language": "python",
   "name": "python3"
  },
  "language_info": {
   "codemirror_mode": {
    "name": "ipython",
    "version": 3
   },
   "file_extension": ".py",
   "mimetype": "text/x-python",
   "name": "python",
   "nbconvert_exporter": "python",
   "pygments_lexer": "ipython3",
   "version": "3.7.6"
  }
 },
 "nbformat": 4,
 "nbformat_minor": 1
}
